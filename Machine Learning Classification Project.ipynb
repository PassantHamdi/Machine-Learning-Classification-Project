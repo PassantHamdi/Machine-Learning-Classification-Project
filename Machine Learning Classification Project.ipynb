{
 "cells": [
  {
   "cell_type": "markdown",
   "metadata": {},
   "source": [
    "## Machine Learning Classification Project\n",
    "### By: Passant Hamdi"
   ]
  },
  {
   "cell_type": "markdown",
   "metadata": {},
   "source": [
    "In this project, we are going to build a model to classify articles into 3 categories, and then split each category into 4 groups."
   ]
  },
  {
   "cell_type": "markdown",
   "metadata": {},
   "source": [
    "### 1. Exploring The Data"
   ]
  },
  {
   "cell_type": "code",
   "execution_count": 1,
   "metadata": {},
   "outputs": [],
   "source": [
    "#First, let's import the necessary libraries\n",
    "import json\n",
    "import pandas as pd\n",
    "import numpy as np\n",
    "import matplotlib.pyplot as plt\n",
    "%matplotlib inline\n",
    "\n",
    "# To hide warning messages.\n",
    "import warnings\n",
    "warnings.filterwarnings('ignore') "
   ]
  },
  {
   "cell_type": "code",
   "execution_count": 2,
   "metadata": {},
   "outputs": [
    {
     "name": "stdout",
     "output_type": "stream",
     "text": [
      "<class 'pandas.core.frame.DataFrame'>\n",
      "RangeIndex: 2481 entries, 0 to 2480\n",
      "Data columns (total 3 columns):\n",
      " #   Column    Non-Null Count  Dtype \n",
      "---  ------    --------------  ----- \n",
      " 0   body      2481 non-null   object\n",
      " 1   title     2481 non-null   object\n",
      " 2   category  2481 non-null   object\n",
      "dtypes: object(3)\n",
      "memory usage: 29.1+ KB\n"
     ]
    }
   ],
   "source": [
    "#Now we load the data\n",
    "data = pd.read_json('articles.json')\n",
    "data.info()"
   ]
  },
  {
   "cell_type": "markdown",
   "metadata": {},
   "source": [
    "Great ! we don't have any missing data."
   ]
  },
  {
   "cell_type": "code",
   "execution_count": 3,
   "metadata": {},
   "outputs": [
    {
     "data": {
      "text/html": [
       "<div>\n",
       "<style scoped>\n",
       "    .dataframe tbody tr th:only-of-type {\n",
       "        vertical-align: middle;\n",
       "    }\n",
       "\n",
       "    .dataframe tbody tr th {\n",
       "        vertical-align: top;\n",
       "    }\n",
       "\n",
       "    .dataframe thead th {\n",
       "        text-align: right;\n",
       "    }\n",
       "</style>\n",
       "<table border=\"1\" class=\"dataframe\">\n",
       "  <thead>\n",
       "    <tr style=\"text-align: right;\">\n",
       "      <th></th>\n",
       "      <th>body</th>\n",
       "      <th>title</th>\n",
       "      <th>category</th>\n",
       "    </tr>\n",
       "  </thead>\n",
       "  <tbody>\n",
       "    <tr>\n",
       "      <th>0</th>\n",
       "      <td>Protecting Netflix Viewing Privacy at Scale\\r\\...</td>\n",
       "      <td>Protecting Netflix Viewing Privacy at Scale</td>\n",
       "      <td>Engineering</td>\n",
       "    </tr>\n",
       "    <tr>\n",
       "      <th>1</th>\n",
       "      <td>Introducing Winston — Event driven Diagnostic ...</td>\n",
       "      <td>Introducing Winston - Event driven Diagnostic ...</td>\n",
       "      <td>Engineering</td>\n",
       "    </tr>\n",
       "    <tr>\n",
       "      <th>2</th>\n",
       "      <td>Performance &amp; Usage at Instagram\\r\\n\\r\\nAt Ins...</td>\n",
       "      <td>Performance &amp; Usage at Instagram</td>\n",
       "      <td>Engineering</td>\n",
       "    </tr>\n",
       "    <tr>\n",
       "      <th>3</th>\n",
       "      <td>The simple example of calculating and formatti...</td>\n",
       "      <td>Refactoring a javascript video store</td>\n",
       "      <td>Engineering</td>\n",
       "    </tr>\n",
       "    <tr>\n",
       "      <th>4</th>\n",
       "      <td>Billing applications have transactions that ne...</td>\n",
       "      <td>Netflix Billing Migration to AWS - Part III</td>\n",
       "      <td>Engineering</td>\n",
       "    </tr>\n",
       "  </tbody>\n",
       "</table>\n",
       "</div>"
      ],
      "text/plain": [
       "                                                body  \\\n",
       "0  Protecting Netflix Viewing Privacy at Scale\\r\\...   \n",
       "1  Introducing Winston — Event driven Diagnostic ...   \n",
       "2  Performance & Usage at Instagram\\r\\n\\r\\nAt Ins...   \n",
       "3  The simple example of calculating and formatti...   \n",
       "4  Billing applications have transactions that ne...   \n",
       "\n",
       "                                               title     category  \n",
       "0        Protecting Netflix Viewing Privacy at Scale  Engineering  \n",
       "1  Introducing Winston - Event driven Diagnostic ...  Engineering  \n",
       "2                   Performance & Usage at Instagram  Engineering  \n",
       "3               Refactoring a javascript video store  Engineering  \n",
       "4        Netflix Billing Migration to AWS - Part III  Engineering  "
      ]
     },
     "execution_count": 3,
     "metadata": {},
     "output_type": "execute_result"
    }
   ],
   "source": [
    "#Let's explore the data more by viewing the first rows\n",
    "data.head()"
   ]
  },
  {
   "cell_type": "code",
   "execution_count": 4,
   "metadata": {},
   "outputs": [
    {
     "data": {
      "image/png": "[encoded data removed]",
      "text/plain": [
       "<Figure size 432x288 with 1 Axes>"
      ]
     },
     "metadata": {
      "needs_background": "light"
     },
     "output_type": "display_data"
    }
   ],
   "source": [
    "#checking if our data is balanced or not\n",
    "data.category.value_counts().plot(kind='bar');"
   ]
  },
  {
   "cell_type": "code",
   "execution_count": 5,
   "metadata": {},
   "outputs": [
    {
     "data": {
      "text/plain": [
       "Startups & Business    1071\n",
       "Product & Design        852\n",
       "Engineering             558\n",
       "Name: category, dtype: int64"
      ]
     },
     "execution_count": 5,
     "metadata": {},
     "output_type": "execute_result"
    }
   ],
   "source": [
    "data.category.value_counts()"
   ]
  },
  {
   "cell_type": "markdown",
   "metadata": {},
   "source": [
    "The data is not well balanced."
   ]
  },
  {
   "cell_type": "code",
   "execution_count": 6,
   "metadata": {},
   "outputs": [
    {
     "name": "stdout",
     "output_type": "stream",
     "text": [
      "Distributed Resource Scheduling with Apache Mesos\n",
      "category: Engineering\n",
      "Sprint: Wednesday\n",
      "category: Startups & Business\n",
      "It’s All A/Bout Testing: The Netflix Experimentation Platform\n",
      "category: Engineering\n"
     ]
    }
   ],
   "source": [
    "#Let's view samples of the data\n",
    "def print_plot(index):\n",
    "    sample = data[data.index == index][['title', 'category']].values[0]\n",
    "    if len(sample) > 0:\n",
    "        print(sample[0])\n",
    "        print('category:', sample[1])\n",
    "        \n",
    "print_plot(5)\n",
    "print_plot(20)\n",
    "print_plot(50)"
   ]
  },
  {
   "cell_type": "code",
   "execution_count": 7,
   "metadata": {
    "scrolled": false
   },
   "outputs": [
    {
     "name": "stdout",
     "output_type": "stream",
     "text": [
      "Distributed Resource Scheduling with Apache Mesos\r\n",
      "\r\n",
      "Netflix uses Apache Mesos to run a mix of batch, stream processing, and service style workloads. For over two years, we have seen an increased usage for a variety of use cases including real time anomaly detection, training and model building batch jobs, machine learning orchestration, and Node.js based microservices. The recent release of Apache Mesos 1.0 represents maturity of the technology that has evolved significantly since we first started to experiment with it.\r\n",
      "\r\n",
      "Our initial use of Apache Mesos was motivated by fine grained resource allocation to tasks of various sizes that can be bin packed to a single EC2 instance. In the absence of Mesos, or a similar resource manager, we would have had to forego fine grained allocation for increased number of instances with suboptimal usage, or develop a technology similar to Mesos, or at least a subset of it.\r\n",
      "\r\n",
      "The increasing adoption of containers for stream processing and batch jobs continues to drive usage in Mesos-based resource scheduling. More recently, developer benefits from working with Docker-based containers brought in a set of service style workloads on Mesos clusters. We present here an overview of some of the projects using Apache Mesos across Netflix engineering. We show the different use cases they address and how they each use the technology effectively. For further details on each of the projects, we provide links to other posts in sections below.\r\n",
      "\r\n",
      "Cloud native scheduling using Apache Mesos\r\n",
      "\r\n",
      "In order to allocate resources from various EC2 instances to tasks, we need a resource manager that makes the resources available for scheduling and carries out the logistics of launching and monitoring the tasks over a distributed set of EC2 instances. Apache Mesos separates out resource allocation to “frameworks” that wish to use the cluster, from scheduling of resources to tasks by the frameworks. While Mesos determines how many resources are allocated to a framework, the framework’s scheduler determines which resources to assign to which tasks, and when. The schedulers are presented a relatively simple API so they can focus on the scheduling logic and react to failures, which are inevitable in a distributed system. This allows users to write different schedulers that cater to various use cases, instead of Mesos having to be the single monolithic scheduler for all use cases. The diagram below from Mesos documentation shows “Framework 1” receiving an offer from “Agent 1” and launching two tasks.\r\n",
      "\r\n",
      "The Mesos community has seen multiple schedulers developed over time that cater to specific use cases and present specific APIs to their users.\r\n",
      "\r\n",
      "Netflix runs various microservices in an elastic cloud, AWS EC2. Operating Mesos clusters in a cloud native environment required us to ensure that the schedulers can handle two aspects in addition to what the schedulers that operate in a data center environment do — increased ephemerality of the agents running the tasks, and the ability to autoscale the Mesos agent cluster based on demand. Also, the use cases we had in mind called for a more advanced scheduling of resources than a first fit kind of assignment. For example, bin packing of tasks to agents by their use of CPUs, memory, and network bandwidth in order to minimize fragmentation of resources. Bin packing also helps us free up as many agents as possible to ease down scaling of the agent cluster by terminating idle agents without terminating running tasks.\r\n",
      "\r\n",
      "Identifying a gap in such capabilities among the existing schedulers, last year we contributed a scheduling library called Fenzo. Fenzo autoscales the agent cluster based on demand and assigns resources to tasks based on multiple scheduling objectives composed via fitness criteria and constraints. The fitness criteria and the constraints are extensible via plugins, with a few common implementations built in, such as bin packing and spreading tasks of a job across EC2 availability zones for high availability. Any Mesos framework that runs on the JVM can use the Fenzo Java library.\r\n",
      "\r\n",
      "Mesos at Netflix\r\n",
      "\r\n",
      "Here are three projects currently running Apache Mesos clusters.\r\n",
      "\r\n",
      "Mantis\r\n",
      "\r\n",
      "Mantis is a reactive stream processing platform that operates as a cloud native service with a focus on operational data streams. Mantis covers varied use cases including real-time dashboarding, alerting, anomaly detection, metric generation, and ad-hoc interactive exploration of streaming data. We created Mantis to make it easy for teams to get access to real-time events and build applications on top of them. Currently, Mantis is processing event streams of up to 8 million events per second and running hundreds of stream-processing jobs around the clock. One such job focuses on individual titles, processing fine-grained insights to figure out if, for example, there are playback issues with House of Cards, Season 4, Episode 1 on iPads in Brazil. This amounts to tracking millions of unique combinations of data all the time.\r\n",
      "\r\n",
      "The Mantis platform comprises a master and an agent cluster. Users submit stream-processing applications as jobs that run as one or more workers on the agent cluster. The master uses the Fenzo scheduling library with Apache Mesos to optimally assign resources to a job’s workers. One such assignment objective places perpetual stream processing jobs on agents separate from those running transient interactive jobs. This helps scale down of the agent cluster when the transient jobs complete. The below diagram shows Mantis architecture. Workers from the various jobs may run on the same agent using Cgroups based resource isolation.\r\n",
      "\r\n",
      "Titus\r\n",
      "\r\n",
      "Titus is a Docker container job management and execution platform. Initially, Titus served batch jobs that included algorithm training (similar titles for recommendations, A/B test cell analysis, etc.) as well as hourly ad-hoc reporting and analysis jobs. More recently, Titus has started to support service style jobs (Netflix microservices) that are in need of a consistent local development experience as well as more fine grained resource management. Titus’ initial service style use is for the API re-architecture using server side NodeJS.\r\n",
      "\r\n",
      "The above architecture diagram for Titus shows its Master using Fenzo to assign resources from Mesos agents. Titus provides tight integration into the Netflix microservices and AWS ecosystem, including integrations for service discovery, software based load balancing, monitoring, and our CI/CD pipeline, Spinnaker. The ability to write custom executors in Mesos allows us to easily tune the container runtime to fit in with the rest of the ecosystem.\r\n",
      "\r\n",
      "Meson\r\n",
      "\r\n",
      "Meson is a general purpose workflow orchestration and scheduling framework that was built to manage machine learning pipelines.\r\n",
      "\r\n",
      "Meson caters to a heterogeneous mix of jobs with varying resource requirements for CPU, memory, and disk space. It supports the running of Spark jobs along with other batch jobs in a shared cluster. Tasks are resource isolated on the agents using Cgroups based isolation. The Meson scheduler evaluates readiness of tasks based on a graph and launches the ready tasks using resource offers from Mesos. Failure handling includes re-launching failed tasks as well as terminating tasks determined to have gone astray.\r\n",
      "\r\n",
      "The above diagram shows Meson’s architecture. The Meson team is currently working on enhancing its scheduling capabilities using the Fenzo scheduling library.\r\n",
      "\r\n",
      "Continuing work with Apache Mesos\r\n",
      "\r\n",
      "As we continue to evolve Mantis, Titus, and Meson projects, Apache Mesos provides a stable, reliable, and scalable resource management platform. We engage with the Mesos community through our open source contribution, Fenzo, and by exchanging ideas at MesosCon conferences — connect with us at the upcoming MesosCon Europe 2016, or see our past sessions from 2014, 2015, and earlier this year (Lessons learned and Meson).\r\n",
      "\r\n",
      "Our future work on these projects includes adding SLAs (service level agreements — such as disparate capacity guarantees for service and batch style jobs), security hardening of agents and containers, increasing operational efficiency and visibility, and adoption across a broader set of use cases. There are exciting projects in the pipeline across Mesos, Fenzo, and our frameworks to make these and other efforts successful.\r\n",
      "\r\n",
      "— Sharma Podila, Andrew Spyker, Neeraj Joshi, Antony Arokiasamy\r\n",
      "\r\n",
      "See Also:\n",
      "category: Engineering\n",
      "Sprint: Thursday\r\n",
      "\r\n",
      "On Wednesday, you and your team created a storyboard. On Thursday, you’ll adopt a “fake it” philosophy to turn that storyboard into a prototype. A realistic façade is all you need to test with customers, and here’s the best part: by focusing on the customer-facing surface of your product or service, you can finish your prototype in just one day. Sound crazy? It’s not, and here’s why:\r\n",
      "\r\n",
      "You made all the important decisions on Wednesday and captured those in your storyboard. Your team can “divide and conquer” by splitting up the storyboard into smaller scenes. You’ll make use of all your team’s skills by assigning prototyping roles like Maker, Stitcher, Writer, and Asset Collector.\r\n",
      "\r\n",
      "On Thursday, you’ll also make sure everything is ready for Friday’s test by confirming the schedule, reviewing the prototype, and writing an interview script.\r\n",
      "\r\n",
      "The Sprint book explains the mindset, strategy, and tools that make it possible to build a realistic façade in seven hours. We even provide a “cheat sheet” for selecting the right prototyping tools and formats. In this post, we’re excited to share the checklist for Thursday and a video where Jake and I talk about the prototype mindset, picking the right tools, and prototyping as a team.\r\n",
      "\r\n",
      "If you have questions, check out the live chat Q&A we hosted during Sprint Week. If you don’t find answers, feel free to tweet us at @GVdesignteam.\r\n",
      "\r\n",
      "Checklist for Thursday\r\n",
      "\r\n",
      "Note: Schedules are approximate. Don’t worry if you run behind. Remember to take breaks every sixty to ninety minutes (or around 11:30 a.m. and 3:30 p.m. each day).\r\n",
      "\r\n",
      "10 a.m.\r\n",
      "\r\n",
      "❏ Pick the right tools. Don’t use your everyday tools. They’re optimized for quality. Instead, use tools that are rough, fast, and flexible. (Read more on page 186 in Sprint.)\r\n",
      "\r\n",
      "❏ Divide and conquer. Assign roles: Maker, Stitcher, Writer, Asset Collector, and Interviewer. You can also break the storyboard into smaller scenes and assign each to different team members. (p. 187)\r\n",
      "\r\n",
      "❏ Prototype!\r\n",
      "\r\n",
      "1 p.m.\r\n",
      "\r\n",
      "❏ Lunch\r\n",
      "\r\n",
      "2 p.m.\r\n",
      "\r\n",
      "❏ Prototype!\r\n",
      "\r\n",
      "❏ Stitch it together. With the work split into parts, it’s easy to lose track of the whole. The Stitcher checks for quality and ensures all the pieces make sense together. (p. 189)\r\n",
      "\r\n",
      "3-ish\r\n",
      "\r\n",
      "❏ Do a trial run. Run through your prototype. Look for mistakes. Make sure the Interviewer and the Decider see it. (p. 189)\r\n",
      "\r\n",
      "❏ Finish up the prototype.\r\n",
      "\r\n",
      "Throughout the Day\r\n",
      "\r\n",
      "❏ Write interview script. The Interviewer prepares for Friday’s test by writing a script. (p. 188)\r\n",
      "\r\n",
      "❏ Remind customers to show up for Friday’s test. Email is good, phone call is better.\r\n",
      "\r\n",
      "❏ Buy gift cards for customers. We usually use $100 gift cards.\r\n",
      "\r\n",
      "Key Ideas\n",
      "category: Startups & Business\n",
      "It’s All A/Bout Testing: The Netflix Experimentation Platform\r\n",
      "\r\n",
      "Ever wonder how Netflix serves a great streaming experience with high-quality video and minimal playback interruptions? Thank the team of engineers and data scientists who constantly A/B test their innovations to our adaptive streaming and content delivery network algorithms. What about more obvious changes, such as the complete redesign of our UI layout or our new personalized homepage? Yes, all thoroughly A/B tested.\r\n",
      "\r\n",
      "In fact, every product change Netflix considers goes through a rigorous A/B testing process before becoming the default user experience. Major redesigns like the ones above greatly improve our service by allowing members to find the content they want to watch faster. However, they are too risky to roll out without extensive A/B testing, which enables us to prove that the new experience is preferred over the old. And if you ever wonder whether we really set out to test everything possible, consider that even the images associated with many titles are A/B tested, sometimes resulting in 20% to 30% more viewing for that title!\r\n",
      "\r\n",
      "Results like these highlight why we are so obsessed with A/B testing. By following an empirical approach, we ensure that product changes are not driven by the most opinionated and vocal Netflix employees, but instead by actual data, allowing our members themselves to guide us toward the experiences they love.\r\n",
      "\r\n",
      "In this post we’re going to discuss the Experimentation Platform: the service which makes it possible for every Netflix engineering team to implement their A/B tests with the support of a specialized engineering team. We’ll start by setting some high level context around A/B testing before covering the architecture of our current platform and how other services interact with it to bring an A/B test to life.\r\n",
      "\r\n",
      "Overview\r\n",
      "\r\n",
      "The general concept behind A/B testing is to create an experiment with a control group and one or more experimental groups (called “cells” within Netflix) which receive alternative treatments. Each member belongs exclusively to one cell within a given experiment, with one of the cells always designated the “default cell”. This cell represents the control group, which receives the same experience as all Netflix members not in the test. As soon as the test is live, we track specific metrics of importance, typically (but not always) streaming hours and retention. Once we have enough participants to draw statistically meaningful conclusions, we can get a read on the efficacy of each test cell and hopefully find a winner.\r\n",
      "\r\n",
      "From the participant’s point of view, each member is usually part of several A/B tests at any given time, provided that none of those tests conflict with one another (i.e. two tests which modify the same area of a Netflix App in different ways). To help test owners track down potentially conflicting tests, we provide them with a test schedule view in ABlaze, the front end to our platform. This tool lets them filter tests across different dimensions to find other tests which may impact an area similar to their own.\r\n",
      "\r\n",
      "There is one more topic to address before we dive further into details, and that is how members get allocated to a given test. We support two primary forms of allocation: batch and real-time.\r\n",
      "\r\n",
      "Batch allocations give analysts the ultimate flexibility, allowing them to populate tests using custom queries as simple or complex as required. These queries resolve to a fixed and known set of members which are then added to the test. The main cons of this approach are that it lacks the ability to allocate brand new customers and cannot allocate based on real-time user behavior. And while the number of members allocated is known, one cannot guarantee that all allocated members will experience the test (e.g. if we’re testing a new feature on an iPhone, we cannot be certain that each allocated member will access Netflix on an iPhone while the test is active).\r\n",
      "\r\n",
      "Real-Time allocations provide analysts with the ability to configure rules which are evaluated as the user interacts with Netflix. Eligible users are allocated to the test in real-time if they meet the criteria specified in the rules and are not currently in a conflicting test. As a result, this approach tackles the weaknesses inherent with the batch approach. The primary downside to real-time allocation, however, is that the calling app incurs additional latencies waiting for allocation results. Fortunately we can often run this call in parallel while the app is waiting on other information. A secondary issue with real-time allocation is that it is difficult to estimate how long it will take for the desired number of members to get allocated to a test, information which analysts need in order to determine how soon they can evaluate the results of a test.\r\n",
      "\r\n",
      "A Typical A/B Test Workflow\r\n",
      "\r\n",
      "With that background, we’re ready to dive deeper. The typical workflow involved in calling the Experimentation Platform (referred to as A/B in the diagrams for shorthand) is best explained using the following workflow for an Image Selection test. Note that there are nuances to the diagram below which I do not address in depth, in particular the architecture of the Netflix API layer which acts as a gateway between external Netflix apps and internal services.\r\n",
      "\r\n",
      "In this example, we’re running a hypothetical A/B test with the purpose of finding the image which results in the greatest number of members watching a specific title. Each cell represents a candidate image. In the diagram we’re also assuming a call flow from a Netflix App running on a PS4, although the same flow is valid for most of our Device Apps.\n",
      "category: Engineering\n"
     ]
    }
   ],
   "source": [
    "#Let's view samples of the data\n",
    "def print_plot(index):\n",
    "    sample = data[data.index == index][['body', 'category']].values[0]\n",
    "    if len(sample) > 0:\n",
    "        print(sample[0])\n",
    "        print('category:', sample[1])\n",
    "        \n",
    "print_plot(5)\n",
    "print_plot(20)\n",
    "print_plot(50)"
   ]
  },
  {
   "cell_type": "markdown",
   "metadata": {},
   "source": [
    "We are going to build a model to predict the category of an article by its body"
   ]
  },
  {
   "cell_type": "code",
   "execution_count": 8,
   "metadata": {},
   "outputs": [
    {
     "data": {
      "text/plain": [
       "3963551"
      ]
     },
     "execution_count": 8,
     "metadata": {},
     "output_type": "execute_result"
    }
   ],
   "source": [
    "#Counting the number of words in the 'body' column\n",
    "data['body'].apply(lambda x: len(x.split(' '))).sum()"
   ]
  },
  {
   "cell_type": "markdown",
   "metadata": {},
   "source": [
    "### 2. Preprocessing The Data"
   ]
  },
  {
   "cell_type": "markdown",
   "metadata": {},
   "source": [
    "Preprocessing our data by converting all words in \"body\" column to lower case, tokenize and remove stop words and apply stemming."
   ]
  },
  {
   "cell_type": "code",
   "execution_count": 9,
   "metadata": {},
   "outputs": [
    {
     "data": {
      "text/html": [
       "<div>\n",
       "<style scoped>\n",
       "    .dataframe tbody tr th:only-of-type {\n",
       "        vertical-align: middle;\n",
       "    }\n",
       "\n",
       "    .dataframe tbody tr th {\n",
       "        vertical-align: top;\n",
       "    }\n",
       "\n",
       "    .dataframe thead th {\n",
       "        text-align: right;\n",
       "    }\n",
       "</style>\n",
       "<table border=\"1\" class=\"dataframe\">\n",
       "  <thead>\n",
       "    <tr style=\"text-align: right;\">\n",
       "      <th></th>\n",
       "      <th>body</th>\n",
       "      <th>title</th>\n",
       "      <th>category</th>\n",
       "    </tr>\n",
       "  </thead>\n",
       "  <tbody>\n",
       "    <tr>\n",
       "      <th>0</th>\n",
       "      <td>protect netflix view privaci at scale On the o...</td>\n",
       "      <td>Protecting Netflix Viewing Privacy at Scale</td>\n",
       "      <td>Engineering</td>\n",
       "    </tr>\n",
       "    <tr>\n",
       "      <th>1</th>\n",
       "      <td>introduc winston — event driven diagnost and r...</td>\n",
       "      <td>Introducing Winston - Event driven Diagnostic ...</td>\n",
       "      <td>Engineering</td>\n",
       "    </tr>\n",
       "    <tr>\n",
       "      <th>2</th>\n",
       "      <td>perform &amp; usag at instagram At instagram, we t...</td>\n",
       "      <td>Performance &amp; Usage at Instagram</td>\n",
       "      <td>Engineering</td>\n",
       "    </tr>\n",
       "    <tr>\n",
       "      <th>3</th>\n",
       "      <td>the simpl exampl of calcul and format a bill f...</td>\n",
       "      <td>Refactoring a javascript video store</td>\n",
       "      <td>Engineering</td>\n",
       "    </tr>\n",
       "    <tr>\n",
       "      <th>4</th>\n",
       "      <td>bill applic have transact that need acid compl...</td>\n",
       "      <td>Netflix Billing Migration to AWS - Part III</td>\n",
       "      <td>Engineering</td>\n",
       "    </tr>\n",
       "  </tbody>\n",
       "</table>\n",
       "</div>"
      ],
      "text/plain": [
       "                                                body  \\\n",
       "0  protect netflix view privaci at scale On the o...   \n",
       "1  introduc winston — event driven diagnost and r...   \n",
       "2  perform & usag at instagram At instagram, we t...   \n",
       "3  the simpl exampl of calcul and format a bill f...   \n",
       "4  bill applic have transact that need acid compl...   \n",
       "\n",
       "                                               title     category  \n",
       "0        Protecting Netflix Viewing Privacy at Scale  Engineering  \n",
       "1  Introducing Winston - Event driven Diagnostic ...  Engineering  \n",
       "2                   Performance & Usage at Instagram  Engineering  \n",
       "3               Refactoring a javascript video store  Engineering  \n",
       "4        Netflix Billing Migration to AWS - Part III  Engineering  "
      ]
     },
     "execution_count": 9,
     "metadata": {},
     "output_type": "execute_result"
    }
   ],
   "source": [
    "# Initialize the stemmer\n",
    "from nltk.stem.porter import PorterStemmer\n",
    "\n",
    "\n",
    "stemmer = PorterStemmer()\n",
    "def stem_words(text):\n",
    "    return \" \".join([stemmer.stem(word) for word in text.split()])\n",
    "\n",
    "data[\"body\"] = data[\"body\"].apply(lambda text: stem_words(text))\n",
    "data.head()"
   ]
  },
  {
   "cell_type": "code",
   "execution_count": 10,
   "metadata": {},
   "outputs": [],
   "source": [
    "#Convert all the words to lower case. This is required as python interprets 'finish' and 'FINISH' differently\n",
    "data[\"body\"] = data[\"body\"].str.lower()"
   ]
  },
  {
   "cell_type": "code",
   "execution_count": 11,
   "metadata": {},
   "outputs": [],
   "source": [
    "import re\n",
    "from nltk.corpus import stopwords\n",
    "\n",
    "\n",
    "REPLACE_BY_SPACE_RE = re.compile('[/(){}\\[\\]\\|@,;]') #Remove punctuation\n",
    "BAD_SYMBOLS_RE = re.compile('[^0-9a-z #+_]') #Remove all unnecessary symbols\n",
    "Stop_Words = set(stopwords.words('english')) #Remove stop words\n",
    "\n",
    "def clean_text(text):\n",
    "    \"\"\"\n",
    "        text: a string\n",
    "        \n",
    "        return: modified initial string\n",
    "    \"\"\"\n",
    "    text = REPLACE_BY_SPACE_RE.sub(' ', text) # replace REPLACE_BY_SPACE_RE symbols by space in text\n",
    "    text = BAD_SYMBOLS_RE.sub('', text) # delete symbols which are in BAD_SYMBOLS_RE from text\n",
    "    text = ' '.join(word for word in text.split() if word not in Stop_Words) # delete stopwors from text\n",
    "    return text\n",
    "\n",
    "data['body'] = data['body'].apply(clean_text)"
   ]
  },
  {
   "cell_type": "code",
   "execution_count": 12,
   "metadata": {},
   "outputs": [
    {
     "data": {
      "text/plain": [
       "0       protect netflix view privaci scale open connec...\n",
       "1       introduc winston event driven diagnost remedi ...\n",
       "2       perform usag instagram instagram treat perform...\n",
       "3       simpl exampl calcul format bill video store op...\n",
       "4       bill applic transact need acid complianc proce...\n",
       "                              ...                        \n",
       "2476    earli stage focu unit econom profitability cor...\n",
       "2477    5 tip nail success product launch past two yea...\n",
       "2478    rout defens ai startup simpl framework underst...\n",
       "2479    faster faster faster id like talk fast left bu...\n",
       "2480    netflix place peopl win exceed expectations co...\n",
       "Name: body, Length: 2481, dtype: object"
      ]
     },
     "execution_count": 12,
     "metadata": {},
     "output_type": "execute_result"
    }
   ],
   "source": [
    "#Now let's review our data after the preparing\n",
    "data.body"
   ]
  },
  {
   "cell_type": "code",
   "execution_count": 13,
   "metadata": {},
   "outputs": [
    {
     "name": "stdout",
     "output_type": "stream",
     "text": [
      "bout testing netflix experiment platform ever wonder netflix serv great stream experi highqual video minim playback interruptions thank team engin data scientist constantli b test innov adapt stream content deliveri network algorithms obviou changes complet redesign ui layout new person homepage yes thoroughli b tested fact everi product chang netflix consid goe rigor b test process befor becom default user experience major redesign like one abov greatli improv servic allow member find content want watch faster however riski roll without extens b testing enabl us prove new experi prefer old ever wonder whether realli set test everyth possible consid even imag associ mani titl b tested sometim result 20 30 view title result like highlight whi obsess b testing follow empir approach ensur product chang driven opinion vocal netflix employees instead actual data allow member themselv guid us toward experi love thi post wer go discuss experiment platform servic make possibl everi netflix engin team implement b test support special engin team well start set high level context around b test befor cover architectur current platform servic interact bring b test life overview gener concept behind b test creat experi control group one experiment group call cells within netflix receiv altern treatments member belong exclus one cell within given experiment one cell alway design default cell thi cell repres control group receiv experi netflix member test soon test live track specif metric importance typic always stream hour retention onc enough particip draw statist meaning conclusions get read efficaci test cell hope find winner participant point view member usual part sever b test ani given time provid none test conflict one anoth ie two test modifi area netflix app differ ways help test owner track potenti conflict tests provid test schedul view ablaze front end platform thi tool let filter test across differ dimens find test may impact area similar one topic address befor dive details member get alloc given test support two primari form allocation batch realtime batch alloc give analyst ultim flexibility allow popul test use custom queri simpl complex required queri resolv fix known set member ad test main con thi approach lack abil alloc brand new custom cannot alloc base realtim user behavior number member alloc known one cannot guarante alloc member experi test eg wer test new featur iphone cannot certain alloc member access netflix iphon test active realtim alloc provid analyst abil configur rule evalu user interact netflix elig user alloc test realtim meet criteria specifi rule current conflict test result thi approach tackl weak inher batch approach primari downsid realtim allocation however call app incur addit latenc wait alloc results fortun often run thi call parallel app wait information secondari issu realtim alloc difficult estim long take desir number member get alloc test inform analyst need order determin soon evalu result test typic b test workflow background wer readi dive deeper typic workflow involv call experiment platform refer b diagram shorthand best explain use follow workflow imag select test note nuanc diagram address depth particular architectur netflix api layer act gateway extern netflix app intern services thi example wer run hypothet b test purpos find imag result greatest number member watch specif title cell repres candid image diagram wer also assum call flow netflix app run ps4 although flow valid devic apps\n",
      "category: Engineering\n"
     ]
    }
   ],
   "source": [
    "print_plot(50)"
   ]
  },
  {
   "cell_type": "code",
   "execution_count": 14,
   "metadata": {},
   "outputs": [
    {
     "data": {
      "text/plain": [
       "14939004"
      ]
     },
     "execution_count": 14,
     "metadata": {},
     "output_type": "execute_result"
    }
   ],
   "source": [
    "data['body'].apply(lambda x: len(x)).sum()"
   ]
  },
  {
   "cell_type": "markdown",
   "metadata": {},
   "source": [
    "We cleaned up more than one million unnecessary words from our data.\n",
    "Now the data is ready for the classification model."
   ]
  },
  {
   "cell_type": "markdown",
   "metadata": {},
   "source": [
    "### 3. Splitting the Data"
   ]
  },
  {
   "cell_type": "code",
   "execution_count": 15,
   "metadata": {},
   "outputs": [
    {
     "name": "stdout",
     "output_type": "stream",
     "text": [
      "Training set has 1587 samples.\n",
      "Validation set has 397 samples.\n",
      "Testing set has 497 samples.\n"
     ]
    }
   ],
   "source": [
    "from sklearn.model_selection import train_test_split\n",
    "\n",
    "X = data['body']\n",
    "y = data['category']\n",
    "\n",
    "# Split the 'body' and 'category' data into training and testing sets, with 20% of the data for test.\n",
    "X_train, X_test, y_train, y_test = train_test_split(X, y, test_size = 0.2,shuffle = True,random_state = 0)\n",
    "\n",
    "# Use the same function above for the validation set\n",
    "X_train, X_val, y_train, y_val = train_test_split(X_train, y_train, \n",
    "    test_size=0.2, random_state= 0) # 0.25 x 0.8 = 0.2 (20% of the data for validation)\n",
    "\n",
    "\n",
    "#Show the results of the split\n",
    "print(\"Training set has {} samples.\".format(X_train.shape[0]))\n",
    "print(\"Validation set has {} samples.\".format(X_val.shape[0]))\n",
    "print(\"Testing set has {} samples.\".format(X_test.shape[0]))"
   ]
  },
  {
   "cell_type": "code",
   "execution_count": 16,
   "metadata": {},
   "outputs": [],
   "source": [
    "# bag of words\n",
    "from sklearn.feature_extraction.text import TfidfVectorizer\n",
    "from sklearn.feature_extraction.text import CountVectorizer\n",
    "\n",
    "#TF-IDF\n",
    "# Convert x_train to vector since model can only run on numbers and not words- Fit and transform\n",
    "tfidf_vectorizer = TfidfVectorizer(use_idf=True)\n",
    "X_train_vectors_tfidf = tfidf_vectorizer.fit_transform(X_train) #tfidf runs on non-tokenized sentences unlike word2vec\n",
    "# Only transform x_test (not fit and transform)\n",
    "X_val_vectors_tfidf = tfidf_vectorizer.transform(X_val)\n",
    "X_test_vectors_tfidf = tfidf_vectorizer.transform(X_test)"
   ]
  },
  {
   "cell_type": "markdown",
   "metadata": {},
   "source": [
    "Now it's time to choose our classification algorithm and start training the data.\n",
    "\n",
    "Our classifier is Linear Support Vector Machine"
   ]
  },
  {
   "cell_type": "markdown",
   "metadata": {},
   "source": [
    "### 4. Implementing The Classifier"
   ]
  },
  {
   "cell_type": "markdown",
   "metadata": {},
   "source": [
    "#### We are going to use Stochastic Gradient Descent SGD Classifier"
   ]
  },
  {
   "cell_type": "code",
   "execution_count": 17,
   "metadata": {},
   "outputs": [
    {
     "data": {
      "text/plain": [
       "Pipeline(memory=None,\n",
       "         steps=[('vect',\n",
       "                 CountVectorizer(analyzer='word', binary=False,\n",
       "                                 decode_error='strict',\n",
       "                                 dtype=<class 'numpy.int64'>, encoding='utf-8',\n",
       "                                 input='content', lowercase=True, max_df=1.0,\n",
       "                                 max_features=None, min_df=1,\n",
       "                                 ngram_range=(1, 1), preprocessor=None,\n",
       "                                 stop_words=None, strip_accents=None,\n",
       "                                 token_pattern='(?u)\\\\b\\\\w\\\\w+\\\\b',\n",
       "                                 tokenizer=None, vocabulary=Non...\n",
       "                ('clf',\n",
       "                 SGDClassifier(alpha=0.001, average=False, class_weight=None,\n",
       "                               early_stopping=False, epsilon=0.1, eta0=0.0,\n",
       "                               fit_intercept=True, l1_ratio=0.15,\n",
       "                               learning_rate='optimal', loss='hinge',\n",
       "                               max_iter=5, n_iter_no_change=5, n_jobs=None,\n",
       "                               penalty='l2', power_t=0.5, random_state=42,\n",
       "                               shuffle=True, tol=None, validation_fraction=0.1,\n",
       "                               verbose=0, warm_start=False))],\n",
       "         verbose=False)"
      ]
     },
     "execution_count": 17,
     "metadata": {},
     "output_type": "execute_result"
    }
   ],
   "source": [
    "#SGDClassifier model, we are ging to use CountVectorizer to transform the text into a vector.\n",
    "\n",
    "from sklearn.metrics import accuracy_score\n",
    "from sklearn.metrics import classification_report\n",
    "from sklearn.linear_model import SGDClassifier\n",
    "from sklearn.pipeline import Pipeline\n",
    "from sklearn.feature_extraction.text import TfidfTransformer\n",
    "\n",
    "sgd = Pipeline([('vect', CountVectorizer()),\n",
    "                ('tfidf', TfidfTransformer()),\n",
    "                ('clf', SGDClassifier(loss='hinge', penalty='l2',alpha=1e-3, random_state=42, max_iter=5, tol=None)),\n",
    "               ])\n",
    "sgd.fit(X_train, y_train)"
   ]
  },
  {
   "cell_type": "code",
   "execution_count": 18,
   "metadata": {},
   "outputs": [
    {
     "name": "stdout",
     "output_type": "stream",
     "text": [
      "accuracy 0.853904282115869\n"
     ]
    }
   ],
   "source": [
    "y_pred_val = sgd.predict(X_val)\n",
    "\n",
    "print('accuracy %s' % accuracy_score(y_pred_val, y_val))"
   ]
  },
  {
   "cell_type": "markdown",
   "metadata": {},
   "source": [
    "Here we have 85.39% accuracy which is very good."
   ]
  },
  {
   "cell_type": "code",
   "execution_count": 19,
   "metadata": {},
   "outputs": [
    {
     "name": "stdout",
     "output_type": "stream",
     "text": [
      "accuracy 0.8752515090543259\n"
     ]
    }
   ],
   "source": [
    "#Let's predict the category for the test data\n",
    "y_pred = sgd.predict(X_test)\n",
    "\n",
    "print('accuracy %s' % accuracy_score(y_pred, y_test))"
   ]
  },
  {
   "cell_type": "code",
   "execution_count": 20,
   "metadata": {},
   "outputs": [
    {
     "name": "stdout",
     "output_type": "stream",
     "text": [
      "                     precision    recall  f1-score   support\n",
      "\n",
      "Startups & Business       0.93      0.91      0.92       110\n",
      "   Product & Design       0.90      0.82      0.85       179\n",
      "        Engineering       0.83      0.91      0.87       208\n",
      "\n",
      "           accuracy                           0.88       497\n",
      "          macro avg       0.89      0.88      0.88       497\n",
      "       weighted avg       0.88      0.88      0.88       497\n",
      "\n"
     ]
    }
   ],
   "source": [
    "classes= ['Startups & Business', 'Product & Design', 'Engineering']\n",
    "print(classification_report(y_test, y_pred,target_names=classes))"
   ]
  },
  {
   "cell_type": "markdown",
   "metadata": {},
   "source": [
    "The prediction accuracy for the test data set is 88%."
   ]
  },
  {
   "cell_type": "markdown",
   "metadata": {},
   "source": [
    "#### Now we need to cluster each of the three categories into 4 groups.\n",
    "\n",
    "We are going to use K-Means clustering algorithm. "
   ]
  },
  {
   "cell_type": "markdown",
   "metadata": {},
   "source": [
    "Will extract each category and apply K-Means algorithm"
   ]
  },
  {
   "cell_type": "code",
   "execution_count": 21,
   "metadata": {},
   "outputs": [
    {
     "data": {
      "text/html": [
       "<div>\n",
       "<style scoped>\n",
       "    .dataframe tbody tr th:only-of-type {\n",
       "        vertical-align: middle;\n",
       "    }\n",
       "\n",
       "    .dataframe tbody tr th {\n",
       "        vertical-align: top;\n",
       "    }\n",
       "\n",
       "    .dataframe thead th {\n",
       "        text-align: right;\n",
       "    }\n",
       "</style>\n",
       "<table border=\"1\" class=\"dataframe\">\n",
       "  <thead>\n",
       "    <tr style=\"text-align: right;\">\n",
       "      <th></th>\n",
       "      <th>body</th>\n",
       "      <th>title</th>\n",
       "      <th>category</th>\n",
       "    </tr>\n",
       "  </thead>\n",
       "  <tbody>\n",
       "    <tr>\n",
       "      <th>0</th>\n",
       "      <td>protect netflix view privaci scale open connec...</td>\n",
       "      <td>Protecting Netflix Viewing Privacy at Scale</td>\n",
       "      <td>Engineering</td>\n",
       "    </tr>\n",
       "    <tr>\n",
       "      <th>1</th>\n",
       "      <td>introduc winston event driven diagnost remedi ...</td>\n",
       "      <td>Introducing Winston - Event driven Diagnostic ...</td>\n",
       "      <td>Engineering</td>\n",
       "    </tr>\n",
       "    <tr>\n",
       "      <th>2</th>\n",
       "      <td>perform usag instagram instagram treat perform...</td>\n",
       "      <td>Performance &amp; Usage at Instagram</td>\n",
       "      <td>Engineering</td>\n",
       "    </tr>\n",
       "    <tr>\n",
       "      <th>3</th>\n",
       "      <td>simpl exampl calcul format bill video store op...</td>\n",
       "      <td>Refactoring a javascript video store</td>\n",
       "      <td>Engineering</td>\n",
       "    </tr>\n",
       "    <tr>\n",
       "      <th>4</th>\n",
       "      <td>bill applic transact need acid complianc proce...</td>\n",
       "      <td>Netflix Billing Migration to AWS - Part III</td>\n",
       "      <td>Engineering</td>\n",
       "    </tr>\n",
       "    <tr>\n",
       "      <th>...</th>\n",
       "      <td>...</td>\n",
       "      <td>...</td>\n",
       "      <td>...</td>\n",
       "    </tr>\n",
       "    <tr>\n",
       "      <th>2440</th>\n",
       "      <td>recent futurestack 2017 new york melani cebula...</td>\n",
       "      <td>Airbnb's 10 Takeaways from Moving to Microserv...</td>\n",
       "      <td>Engineering</td>\n",
       "    </tr>\n",
       "    <tr>\n",
       "      <th>2441</th>\n",
       "      <td>heard apach strut open sourc framework play ro...</td>\n",
       "      <td>Could the Equifax Hack Have Been Prevented by ...</td>\n",
       "      <td>Engineering</td>\n",
       "    </tr>\n",
       "    <tr>\n",
       "      <th>2447</th>\n",
       "      <td>long time gitlabcom use singl postgresql datab...</td>\n",
       "      <td>Scaling the GitLab database | GitLab</td>\n",
       "      <td>Engineering</td>\n",
       "    </tr>\n",
       "    <tr>\n",
       "      <th>2466</th>\n",
       "      <td>known vs unknown build success compani typing ...</td>\n",
       "      <td>Knowns vs Unknowns - Are you building a succes...</td>\n",
       "      <td>Engineering</td>\n",
       "    </tr>\n",
       "    <tr>\n",
       "      <th>2478</th>\n",
       "      <td>rout defens ai startup simpl framework underst...</td>\n",
       "      <td>Routes to Defensibility for your AI Startup</td>\n",
       "      <td>Engineering</td>\n",
       "    </tr>\n",
       "  </tbody>\n",
       "</table>\n",
       "<p>558 rows × 3 columns</p>\n",
       "</div>"
      ],
      "text/plain": [
       "                                                   body  \\\n",
       "0     protect netflix view privaci scale open connec...   \n",
       "1     introduc winston event driven diagnost remedi ...   \n",
       "2     perform usag instagram instagram treat perform...   \n",
       "3     simpl exampl calcul format bill video store op...   \n",
       "4     bill applic transact need acid complianc proce...   \n",
       "...                                                 ...   \n",
       "2440  recent futurestack 2017 new york melani cebula...   \n",
       "2441  heard apach strut open sourc framework play ro...   \n",
       "2447  long time gitlabcom use singl postgresql datab...   \n",
       "2466  known vs unknown build success compani typing ...   \n",
       "2478  rout defens ai startup simpl framework underst...   \n",
       "\n",
       "                                                  title     category  \n",
       "0           Protecting Netflix Viewing Privacy at Scale  Engineering  \n",
       "1     Introducing Winston - Event driven Diagnostic ...  Engineering  \n",
       "2                      Performance & Usage at Instagram  Engineering  \n",
       "3                  Refactoring a javascript video store  Engineering  \n",
       "4           Netflix Billing Migration to AWS - Part III  Engineering  \n",
       "...                                                 ...          ...  \n",
       "2440  Airbnb's 10 Takeaways from Moving to Microserv...  Engineering  \n",
       "2441  Could the Equifax Hack Have Been Prevented by ...  Engineering  \n",
       "2447               Scaling the GitLab database | GitLab  Engineering  \n",
       "2466  Knowns vs Unknowns - Are you building a succes...  Engineering  \n",
       "2478        Routes to Defensibility for your AI Startup  Engineering  \n",
       "\n",
       "[558 rows x 3 columns]"
      ]
     },
     "execution_count": 21,
     "metadata": {},
     "output_type": "execute_result"
    }
   ],
   "source": [
    "Eng_Cluster = data.loc[data.category ==\"Engineering\"]\n",
    "Eng_Cluster"
   ]
  },
  {
   "cell_type": "code",
   "execution_count": 22,
   "metadata": {},
   "outputs": [
    {
     "name": "stdout",
     "output_type": "stream",
     "text": [
      "Wall time: 1.12 s\n",
      "(558, 30735)\n"
     ]
    }
   ],
   "source": [
    "from sklearn.feature_extraction.text import TfidfVectorizer\n",
    "\n",
    "#define vectorizer parameters\n",
    "tfidf_vectorizer = TfidfVectorizer()\n",
    "\n",
    "%time tfidf_matrix = tfidf_vectorizer.fit_transform(Eng_Cluster['body']) #fit the vectorizer to body\n",
    "print(tfidf_matrix.shape)\n"
   ]
  },
  {
   "cell_type": "code",
   "execution_count": 23,
   "metadata": {},
   "outputs": [],
   "source": [
    "terms = tfidf_vectorizer.get_feature_names()"
   ]
  },
  {
   "cell_type": "code",
   "execution_count": 24,
   "metadata": {},
   "outputs": [],
   "source": [
    "from sklearn.metrics.pairwise import cosine_similarity\n",
    "dist = 1 - cosine_similarity(tfidf_matrix)"
   ]
  },
  {
   "cell_type": "markdown",
   "metadata": {},
   "source": [
    "dist is defined as (1 - the cosine) similarity of each document. Cosine similarity is measured against the tf-idf matrix and can be used to generate a measure of similarity between each document and the other documents in the corpus."
   ]
  },
  {
   "cell_type": "code",
   "execution_count": 25,
   "metadata": {},
   "outputs": [],
   "source": [
    "#Now we use K-means clustering\n",
    "from sklearn.cluster import KMeans\n",
    "\n",
    "num_clusters = 4\n",
    "\n",
    "km = KMeans(n_clusters=num_clusters)\n",
    "\n",
    "km.fit(tfidf_matrix)\n",
    "\n",
    "clusters = km.labels_.tolist()"
   ]
  },
  {
   "cell_type": "code",
   "execution_count": 26,
   "metadata": {},
   "outputs": [
    {
     "data": {
      "text/plain": [
       "Index(['body', 'title', 'category'], dtype='object')"
      ]
     },
     "execution_count": 26,
     "metadata": {},
     "output_type": "execute_result"
    }
   ],
   "source": [
    "Eng_Cluster.columns"
   ]
  },
  {
   "cell_type": "code",
   "execution_count": 27,
   "metadata": {},
   "outputs": [
    {
     "name": "stdout",
     "output_type": "stream",
     "text": [
      "    cluster\n",
      "0         1\n",
      "1         1\n",
      "2         1\n",
      "3         1\n",
      "4         2\n",
      "..      ...\n",
      "553       3\n",
      "554       3\n",
      "555       2\n",
      "556       3\n",
      "557       2\n",
      "\n",
      "[558 rows x 1 columns]\n"
     ]
    }
   ],
   "source": [
    "#converting list of clusters to dataframe column\n",
    "df = pd.DataFrame (clusters, columns = ['cluster'])\n",
    "df = df.astype(str)\n",
    "print (df)"
   ]
  },
  {
   "cell_type": "code",
   "execution_count": 28,
   "metadata": {},
   "outputs": [
    {
     "data": {
      "text/html": [
       "<div>\n",
       "<style scoped>\n",
       "    .dataframe tbody tr th:only-of-type {\n",
       "        vertical-align: middle;\n",
       "    }\n",
       "\n",
       "    .dataframe tbody tr th {\n",
       "        vertical-align: top;\n",
       "    }\n",
       "\n",
       "    .dataframe thead th {\n",
       "        text-align: right;\n",
       "    }\n",
       "</style>\n",
       "<table border=\"1\" class=\"dataframe\">\n",
       "  <thead>\n",
       "    <tr style=\"text-align: right;\">\n",
       "      <th></th>\n",
       "      <th>cluster</th>\n",
       "    </tr>\n",
       "  </thead>\n",
       "  <tbody>\n",
       "    <tr>\n",
       "      <th>0</th>\n",
       "      <td>group2</td>\n",
       "    </tr>\n",
       "    <tr>\n",
       "      <th>1</th>\n",
       "      <td>group2</td>\n",
       "    </tr>\n",
       "    <tr>\n",
       "      <th>2</th>\n",
       "      <td>group2</td>\n",
       "    </tr>\n",
       "    <tr>\n",
       "      <th>3</th>\n",
       "      <td>group2</td>\n",
       "    </tr>\n",
       "    <tr>\n",
       "      <th>4</th>\n",
       "      <td>group3</td>\n",
       "    </tr>\n",
       "    <tr>\n",
       "      <th>...</th>\n",
       "      <td>...</td>\n",
       "    </tr>\n",
       "    <tr>\n",
       "      <th>553</th>\n",
       "      <td>group4</td>\n",
       "    </tr>\n",
       "    <tr>\n",
       "      <th>554</th>\n",
       "      <td>group4</td>\n",
       "    </tr>\n",
       "    <tr>\n",
       "      <th>555</th>\n",
       "      <td>group3</td>\n",
       "    </tr>\n",
       "    <tr>\n",
       "      <th>556</th>\n",
       "      <td>group4</td>\n",
       "    </tr>\n",
       "    <tr>\n",
       "      <th>557</th>\n",
       "      <td>group3</td>\n",
       "    </tr>\n",
       "  </tbody>\n",
       "</table>\n",
       "<p>558 rows × 1 columns</p>\n",
       "</div>"
      ],
      "text/plain": [
       "    cluster\n",
       "0    group2\n",
       "1    group2\n",
       "2    group2\n",
       "3    group2\n",
       "4    group3\n",
       "..      ...\n",
       "553  group4\n",
       "554  group4\n",
       "555  group3\n",
       "556  group4\n",
       "557  group3\n",
       "\n",
       "[558 rows x 1 columns]"
      ]
     },
     "execution_count": 28,
     "metadata": {},
     "output_type": "execute_result"
    }
   ],
   "source": [
    "#changing names of clusters\n",
    "df['cluster'] = df['cluster'].replace(['0','1', '2', '3'],['group1','group2','group3', 'group4'])\n",
    "df"
   ]
  },
  {
   "cell_type": "code",
   "execution_count": 29,
   "metadata": {},
   "outputs": [],
   "source": [
    "#reseting the index before joining the cluster column\n",
    "Eng_Cluster = Eng_Cluster.reset_index(drop = True)"
   ]
  },
  {
   "cell_type": "code",
   "execution_count": 30,
   "metadata": {},
   "outputs": [
    {
     "data": {
      "text/html": [
       "<div>\n",
       "<style scoped>\n",
       "    .dataframe tbody tr th:only-of-type {\n",
       "        vertical-align: middle;\n",
       "    }\n",
       "\n",
       "    .dataframe tbody tr th {\n",
       "        vertical-align: top;\n",
       "    }\n",
       "\n",
       "    .dataframe thead th {\n",
       "        text-align: right;\n",
       "    }\n",
       "</style>\n",
       "<table border=\"1\" class=\"dataframe\">\n",
       "  <thead>\n",
       "    <tr style=\"text-align: right;\">\n",
       "      <th></th>\n",
       "      <th>body</th>\n",
       "      <th>title</th>\n",
       "      <th>category</th>\n",
       "      <th>cluster</th>\n",
       "    </tr>\n",
       "  </thead>\n",
       "  <tbody>\n",
       "    <tr>\n",
       "      <th>0</th>\n",
       "      <td>protect netflix view privaci scale open connec...</td>\n",
       "      <td>Protecting Netflix Viewing Privacy at Scale</td>\n",
       "      <td>Engineering</td>\n",
       "      <td>group2</td>\n",
       "    </tr>\n",
       "    <tr>\n",
       "      <th>1</th>\n",
       "      <td>introduc winston event driven diagnost remedi ...</td>\n",
       "      <td>Introducing Winston - Event driven Diagnostic ...</td>\n",
       "      <td>Engineering</td>\n",
       "      <td>group2</td>\n",
       "    </tr>\n",
       "    <tr>\n",
       "      <th>2</th>\n",
       "      <td>perform usag instagram instagram treat perform...</td>\n",
       "      <td>Performance &amp; Usage at Instagram</td>\n",
       "      <td>Engineering</td>\n",
       "      <td>group2</td>\n",
       "    </tr>\n",
       "    <tr>\n",
       "      <th>3</th>\n",
       "      <td>simpl exampl calcul format bill video store op...</td>\n",
       "      <td>Refactoring a javascript video store</td>\n",
       "      <td>Engineering</td>\n",
       "      <td>group2</td>\n",
       "    </tr>\n",
       "    <tr>\n",
       "      <th>4</th>\n",
       "      <td>bill applic transact need acid complianc proce...</td>\n",
       "      <td>Netflix Billing Migration to AWS - Part III</td>\n",
       "      <td>Engineering</td>\n",
       "      <td>group3</td>\n",
       "    </tr>\n",
       "    <tr>\n",
       "      <th>...</th>\n",
       "      <td>...</td>\n",
       "      <td>...</td>\n",
       "      <td>...</td>\n",
       "      <td>...</td>\n",
       "    </tr>\n",
       "    <tr>\n",
       "      <th>553</th>\n",
       "      <td>recent futurestack 2017 new york melani cebula...</td>\n",
       "      <td>Airbnb's 10 Takeaways from Moving to Microserv...</td>\n",
       "      <td>Engineering</td>\n",
       "      <td>group4</td>\n",
       "    </tr>\n",
       "    <tr>\n",
       "      <th>554</th>\n",
       "      <td>heard apach strut open sourc framework play ro...</td>\n",
       "      <td>Could the Equifax Hack Have Been Prevented by ...</td>\n",
       "      <td>Engineering</td>\n",
       "      <td>group4</td>\n",
       "    </tr>\n",
       "    <tr>\n",
       "      <th>555</th>\n",
       "      <td>long time gitlabcom use singl postgresql datab...</td>\n",
       "      <td>Scaling the GitLab database | GitLab</td>\n",
       "      <td>Engineering</td>\n",
       "      <td>group3</td>\n",
       "    </tr>\n",
       "    <tr>\n",
       "      <th>556</th>\n",
       "      <td>known vs unknown build success compani typing ...</td>\n",
       "      <td>Knowns vs Unknowns - Are you building a succes...</td>\n",
       "      <td>Engineering</td>\n",
       "      <td>group4</td>\n",
       "    </tr>\n",
       "    <tr>\n",
       "      <th>557</th>\n",
       "      <td>rout defens ai startup simpl framework underst...</td>\n",
       "      <td>Routes to Defensibility for your AI Startup</td>\n",
       "      <td>Engineering</td>\n",
       "      <td>group3</td>\n",
       "    </tr>\n",
       "  </tbody>\n",
       "</table>\n",
       "<p>558 rows × 4 columns</p>\n",
       "</div>"
      ],
      "text/plain": [
       "                                                  body  \\\n",
       "0    protect netflix view privaci scale open connec...   \n",
       "1    introduc winston event driven diagnost remedi ...   \n",
       "2    perform usag instagram instagram treat perform...   \n",
       "3    simpl exampl calcul format bill video store op...   \n",
       "4    bill applic transact need acid complianc proce...   \n",
       "..                                                 ...   \n",
       "553  recent futurestack 2017 new york melani cebula...   \n",
       "554  heard apach strut open sourc framework play ro...   \n",
       "555  long time gitlabcom use singl postgresql datab...   \n",
       "556  known vs unknown build success compani typing ...   \n",
       "557  rout defens ai startup simpl framework underst...   \n",
       "\n",
       "                                                 title     category cluster  \n",
       "0          Protecting Netflix Viewing Privacy at Scale  Engineering  group2  \n",
       "1    Introducing Winston - Event driven Diagnostic ...  Engineering  group2  \n",
       "2                     Performance & Usage at Instagram  Engineering  group2  \n",
       "3                 Refactoring a javascript video store  Engineering  group2  \n",
       "4          Netflix Billing Migration to AWS - Part III  Engineering  group3  \n",
       "..                                                 ...          ...     ...  \n",
       "553  Airbnb's 10 Takeaways from Moving to Microserv...  Engineering  group4  \n",
       "554  Could the Equifax Hack Have Been Prevented by ...  Engineering  group4  \n",
       "555               Scaling the GitLab database | GitLab  Engineering  group3  \n",
       "556  Knowns vs Unknowns - Are you building a succes...  Engineering  group4  \n",
       "557        Routes to Defensibility for your AI Startup  Engineering  group3  \n",
       "\n",
       "[558 rows x 4 columns]"
      ]
     },
     "execution_count": 30,
     "metadata": {},
     "output_type": "execute_result"
    }
   ],
   "source": [
    "df = pd.concat([Eng_Cluster, df], axis=1)\n",
    "df"
   ]
  },
  {
   "cell_type": "markdown",
   "metadata": {},
   "source": [
    "Now we repeat the same for both other categories, 'Startups & Business' and  'Product & Design'"
   ]
  },
  {
   "cell_type": "code",
   "execution_count": 31,
   "metadata": {},
   "outputs": [
    {
     "data": {
      "text/html": [
       "<div>\n",
       "<style scoped>\n",
       "    .dataframe tbody tr th:only-of-type {\n",
       "        vertical-align: middle;\n",
       "    }\n",
       "\n",
       "    .dataframe tbody tr th {\n",
       "        vertical-align: top;\n",
       "    }\n",
       "\n",
       "    .dataframe thead th {\n",
       "        text-align: right;\n",
       "    }\n",
       "</style>\n",
       "<table border=\"1\" class=\"dataframe\">\n",
       "  <thead>\n",
       "    <tr style=\"text-align: right;\">\n",
       "      <th></th>\n",
       "      <th>body</th>\n",
       "      <th>title</th>\n",
       "      <th>category</th>\n",
       "    </tr>\n",
       "  </thead>\n",
       "  <tbody>\n",
       "    <tr>\n",
       "      <th>7</th>\n",
       "      <td>ok thi one might littl differ evergreen collec...</td>\n",
       "      <td>How Barriers to Entry Confused Me Terribly, an...</td>\n",
       "      <td>Startups &amp; Business</td>\n",
       "    </tr>\n",
       "    <tr>\n",
       "      <th>8</th>\n",
       "      <td>thi articl andi smith author entrepreneur advi...</td>\n",
       "      <td>The Ancient Origins of Storytelling and How Yo...</td>\n",
       "      <td>Startups &amp; Business</td>\n",
       "    </tr>\n",
       "    <tr>\n",
       "      <th>9</th>\n",
       "      <td>somewher along continuum art versu scienc deba...</td>\n",
       "      <td>How To Choose The Right Business Ideas</td>\n",
       "      <td>Startups &amp; Business</td>\n",
       "    </tr>\n",
       "    <tr>\n",
       "      <th>10</th>\n",
       "      <td>compani cultur annoy subject research mushi ma...</td>\n",
       "      <td>Most Company Culture Posts are Fluffy Bullshit...</td>\n",
       "      <td>Startups &amp; Business</td>\n",
       "    </tr>\n",
       "    <tr>\n",
       "      <th>11</th>\n",
       "      <td>great busi dont big big busi awful measur qual...</td>\n",
       "      <td>Why Value Capture is the Most Important Busine...</td>\n",
       "      <td>Startups &amp; Business</td>\n",
       "    </tr>\n",
       "    <tr>\n",
       "      <th>...</th>\n",
       "      <td>...</td>\n",
       "      <td>...</td>\n",
       "      <td>...</td>\n",
       "    </tr>\n",
       "    <tr>\n",
       "      <th>2474</th>\n",
       "      <td>netflix place peopl win exceed expectations co...</td>\n",
       "      <td>Humans Hate Being Spun: How to Practice Radica...</td>\n",
       "      <td>Startups &amp; Business</td>\n",
       "    </tr>\n",
       "    <tr>\n",
       "      <th>2475</th>\n",
       "      <td>true person popular isnt alway answer tricky l...</td>\n",
       "      <td>Why Personalization is Dead (And What to Do In...</td>\n",
       "      <td>Startups &amp; Business</td>\n",
       "    </tr>\n",
       "    <tr>\n",
       "      <th>2476</th>\n",
       "      <td>earli stage focu unit econom profitability cor...</td>\n",
       "      <td>At the Early Stage, Focus on Unit Economic Pro...</td>\n",
       "      <td>Startups &amp; Business</td>\n",
       "    </tr>\n",
       "    <tr>\n",
       "      <th>2477</th>\n",
       "      <td>5 tip nail success product launch past two yea...</td>\n",
       "      <td>5 Tips to Nail a Successful Product Launch</td>\n",
       "      <td>Startups &amp; Business</td>\n",
       "    </tr>\n",
       "    <tr>\n",
       "      <th>2480</th>\n",
       "      <td>netflix place peopl win exceed expectations co...</td>\n",
       "      <td>Humans Hate Being Spun: How to Practice Radica...</td>\n",
       "      <td>Startups &amp; Business</td>\n",
       "    </tr>\n",
       "  </tbody>\n",
       "</table>\n",
       "<p>1071 rows × 3 columns</p>\n",
       "</div>"
      ],
      "text/plain": [
       "                                                   body  \\\n",
       "7     ok thi one might littl differ evergreen collec...   \n",
       "8     thi articl andi smith author entrepreneur advi...   \n",
       "9     somewher along continuum art versu scienc deba...   \n",
       "10    compani cultur annoy subject research mushi ma...   \n",
       "11    great busi dont big big busi awful measur qual...   \n",
       "...                                                 ...   \n",
       "2474  netflix place peopl win exceed expectations co...   \n",
       "2475  true person popular isnt alway answer tricky l...   \n",
       "2476  earli stage focu unit econom profitability cor...   \n",
       "2477  5 tip nail success product launch past two yea...   \n",
       "2480  netflix place peopl win exceed expectations co...   \n",
       "\n",
       "                                                  title             category  \n",
       "7     How Barriers to Entry Confused Me Terribly, an...  Startups & Business  \n",
       "8     The Ancient Origins of Storytelling and How Yo...  Startups & Business  \n",
       "9                How To Choose The Right Business Ideas  Startups & Business  \n",
       "10    Most Company Culture Posts are Fluffy Bullshit...  Startups & Business  \n",
       "11    Why Value Capture is the Most Important Busine...  Startups & Business  \n",
       "...                                                 ...                  ...  \n",
       "2474  Humans Hate Being Spun: How to Practice Radica...  Startups & Business  \n",
       "2475  Why Personalization is Dead (And What to Do In...  Startups & Business  \n",
       "2476  At the Early Stage, Focus on Unit Economic Pro...  Startups & Business  \n",
       "2477         5 Tips to Nail a Successful Product Launch  Startups & Business  \n",
       "2480  Humans Hate Being Spun: How to Practice Radica...  Startups & Business  \n",
       "\n",
       "[1071 rows x 3 columns]"
      ]
     },
     "execution_count": 31,
     "metadata": {},
     "output_type": "execute_result"
    }
   ],
   "source": [
    "Sup_Cluster = data.loc[data.category ==\"Startups & Business\"]\n",
    "Sup_Cluster"
   ]
  },
  {
   "cell_type": "code",
   "execution_count": 32,
   "metadata": {},
   "outputs": [
    {
     "name": "stdout",
     "output_type": "stream",
     "text": [
      "Wall time: 1.55 s\n",
      "(1071, 34131)\n"
     ]
    },
    {
     "data": {
      "text/html": [
       "<div>\n",
       "<style scoped>\n",
       "    .dataframe tbody tr th:only-of-type {\n",
       "        vertical-align: middle;\n",
       "    }\n",
       "\n",
       "    .dataframe tbody tr th {\n",
       "        vertical-align: top;\n",
       "    }\n",
       "\n",
       "    .dataframe thead th {\n",
       "        text-align: right;\n",
       "    }\n",
       "</style>\n",
       "<table border=\"1\" class=\"dataframe\">\n",
       "  <thead>\n",
       "    <tr style=\"text-align: right;\">\n",
       "      <th></th>\n",
       "      <th>body</th>\n",
       "      <th>title</th>\n",
       "      <th>category</th>\n",
       "      <th>cluster</th>\n",
       "    </tr>\n",
       "  </thead>\n",
       "  <tbody>\n",
       "    <tr>\n",
       "      <th>0</th>\n",
       "      <td>ok thi one might littl differ evergreen collec...</td>\n",
       "      <td>How Barriers to Entry Confused Me Terribly, an...</td>\n",
       "      <td>Startups &amp; Business</td>\n",
       "      <td>group2</td>\n",
       "    </tr>\n",
       "    <tr>\n",
       "      <th>1</th>\n",
       "      <td>thi articl andi smith author entrepreneur advi...</td>\n",
       "      <td>The Ancient Origins of Storytelling and How Yo...</td>\n",
       "      <td>Startups &amp; Business</td>\n",
       "      <td>group1</td>\n",
       "    </tr>\n",
       "    <tr>\n",
       "      <th>2</th>\n",
       "      <td>somewher along continuum art versu scienc deba...</td>\n",
       "      <td>How To Choose The Right Business Ideas</td>\n",
       "      <td>Startups &amp; Business</td>\n",
       "      <td>group4</td>\n",
       "    </tr>\n",
       "    <tr>\n",
       "      <th>3</th>\n",
       "      <td>compani cultur annoy subject research mushi ma...</td>\n",
       "      <td>Most Company Culture Posts are Fluffy Bullshit...</td>\n",
       "      <td>Startups &amp; Business</td>\n",
       "      <td>group4</td>\n",
       "    </tr>\n",
       "    <tr>\n",
       "      <th>4</th>\n",
       "      <td>great busi dont big big busi awful measur qual...</td>\n",
       "      <td>Why Value Capture is the Most Important Busine...</td>\n",
       "      <td>Startups &amp; Business</td>\n",
       "      <td>group2</td>\n",
       "    </tr>\n",
       "    <tr>\n",
       "      <th>...</th>\n",
       "      <td>...</td>\n",
       "      <td>...</td>\n",
       "      <td>...</td>\n",
       "      <td>...</td>\n",
       "    </tr>\n",
       "    <tr>\n",
       "      <th>1066</th>\n",
       "      <td>netflix place peopl win exceed expectations co...</td>\n",
       "      <td>Humans Hate Being Spun: How to Practice Radica...</td>\n",
       "      <td>Startups &amp; Business</td>\n",
       "      <td>group4</td>\n",
       "    </tr>\n",
       "    <tr>\n",
       "      <th>1067</th>\n",
       "      <td>true person popular isnt alway answer tricky l...</td>\n",
       "      <td>Why Personalization is Dead (And What to Do In...</td>\n",
       "      <td>Startups &amp; Business</td>\n",
       "      <td>group1</td>\n",
       "    </tr>\n",
       "    <tr>\n",
       "      <th>1068</th>\n",
       "      <td>earli stage focu unit econom profitability cor...</td>\n",
       "      <td>At the Early Stage, Focus on Unit Economic Pro...</td>\n",
       "      <td>Startups &amp; Business</td>\n",
       "      <td>group2</td>\n",
       "    </tr>\n",
       "    <tr>\n",
       "      <th>1069</th>\n",
       "      <td>5 tip nail success product launch past two yea...</td>\n",
       "      <td>5 Tips to Nail a Successful Product Launch</td>\n",
       "      <td>Startups &amp; Business</td>\n",
       "      <td>group1</td>\n",
       "    </tr>\n",
       "    <tr>\n",
       "      <th>1070</th>\n",
       "      <td>netflix place peopl win exceed expectations co...</td>\n",
       "      <td>Humans Hate Being Spun: How to Practice Radica...</td>\n",
       "      <td>Startups &amp; Business</td>\n",
       "      <td>group4</td>\n",
       "    </tr>\n",
       "  </tbody>\n",
       "</table>\n",
       "<p>1071 rows × 4 columns</p>\n",
       "</div>"
      ],
      "text/plain": [
       "                                                   body  \\\n",
       "0     ok thi one might littl differ evergreen collec...   \n",
       "1     thi articl andi smith author entrepreneur advi...   \n",
       "2     somewher along continuum art versu scienc deba...   \n",
       "3     compani cultur annoy subject research mushi ma...   \n",
       "4     great busi dont big big busi awful measur qual...   \n",
       "...                                                 ...   \n",
       "1066  netflix place peopl win exceed expectations co...   \n",
       "1067  true person popular isnt alway answer tricky l...   \n",
       "1068  earli stage focu unit econom profitability cor...   \n",
       "1069  5 tip nail success product launch past two yea...   \n",
       "1070  netflix place peopl win exceed expectations co...   \n",
       "\n",
       "                                                  title             category  \\\n",
       "0     How Barriers to Entry Confused Me Terribly, an...  Startups & Business   \n",
       "1     The Ancient Origins of Storytelling and How Yo...  Startups & Business   \n",
       "2                How To Choose The Right Business Ideas  Startups & Business   \n",
       "3     Most Company Culture Posts are Fluffy Bullshit...  Startups & Business   \n",
       "4     Why Value Capture is the Most Important Busine...  Startups & Business   \n",
       "...                                                 ...                  ...   \n",
       "1066  Humans Hate Being Spun: How to Practice Radica...  Startups & Business   \n",
       "1067  Why Personalization is Dead (And What to Do In...  Startups & Business   \n",
       "1068  At the Early Stage, Focus on Unit Economic Pro...  Startups & Business   \n",
       "1069         5 Tips to Nail a Successful Product Launch  Startups & Business   \n",
       "1070  Humans Hate Being Spun: How to Practice Radica...  Startups & Business   \n",
       "\n",
       "     cluster  \n",
       "0     group2  \n",
       "1     group1  \n",
       "2     group4  \n",
       "3     group4  \n",
       "4     group2  \n",
       "...      ...  \n",
       "1066  group4  \n",
       "1067  group1  \n",
       "1068  group2  \n",
       "1069  group1  \n",
       "1070  group4  \n",
       "\n",
       "[1071 rows x 4 columns]"
      ]
     },
     "execution_count": 32,
     "metadata": {},
     "output_type": "execute_result"
    }
   ],
   "source": [
    "#define vectorizer parameters\n",
    "tfidf_vectorizer = TfidfVectorizer()\n",
    "\n",
    "%time tfidf_matrix = tfidf_vectorizer.fit_transform(Sup_Cluster['body']) #fit the vectorizer to body\n",
    "print(tfidf_matrix.shape)\n",
    "\n",
    "terms = tfidf_vectorizer.get_feature_names()\n",
    "\n",
    "dist = 1 - cosine_similarity(tfidf_matrix)\n",
    "\n",
    "#Now we use K-means clustering\n",
    "from sklearn.cluster import KMeans\n",
    "\n",
    "num_clusters = 4\n",
    "\n",
    "km = KMeans(n_clusters=num_clusters)\n",
    "\n",
    "km.fit(tfidf_matrix)\n",
    "\n",
    "Startups_clusters = km.labels_.tolist()\n",
    "\n",
    "#converting list of clusters to dataframe column\n",
    "df2 = pd.DataFrame (Startups_clusters, columns = ['cluster'])\n",
    "df2 = df2.astype(str)\n",
    "\n",
    "\n",
    "#changing names of clusters\n",
    "df2['cluster'] = df2['cluster'].replace(['0','1', '2', '3'],['group1','group2','group3', 'group4'])\n",
    "\n",
    "\n",
    "#reseting the index before joining the cluster column\n",
    "Sup_Cluster = Sup_Cluster.reset_index(drop = True)\n",
    "\n",
    "df2 = pd.concat([Sup_Cluster, df2], axis=1)\n",
    "df2"
   ]
  },
  {
   "cell_type": "code",
   "execution_count": 33,
   "metadata": {},
   "outputs": [
    {
     "data": {
      "text/html": [
       "<div>\n",
       "<style scoped>\n",
       "    .dataframe tbody tr th:only-of-type {\n",
       "        vertical-align: middle;\n",
       "    }\n",
       "\n",
       "    .dataframe tbody tr th {\n",
       "        vertical-align: top;\n",
       "    }\n",
       "\n",
       "    .dataframe thead th {\n",
       "        text-align: right;\n",
       "    }\n",
       "</style>\n",
       "<table border=\"1\" class=\"dataframe\">\n",
       "  <thead>\n",
       "    <tr style=\"text-align: right;\">\n",
       "      <th></th>\n",
       "      <th>body</th>\n",
       "      <th>title</th>\n",
       "      <th>category</th>\n",
       "    </tr>\n",
       "  </thead>\n",
       "  <tbody>\n",
       "    <tr>\n",
       "      <th>57</th>\n",
       "      <td>role product manag technolog firm critic impor...</td>\n",
       "      <td>What is Product Management?</td>\n",
       "      <td>Product &amp; Design</td>\n",
       "    </tr>\n",
       "    <tr>\n",
       "      <th>62</th>\n",
       "      <td>last year john maeda publish hi inaugur #desig...</td>\n",
       "      <td>Design in Tech Report 2016</td>\n",
       "      <td>Product &amp; Design</td>\n",
       "    </tr>\n",
       "    <tr>\n",
       "      <th>64</th>\n",
       "      <td>techmem nuzzel curat newslett book product eve...</td>\n",
       "      <td>My Daily Learning Ritual</td>\n",
       "      <td>Product &amp; Design</td>\n",
       "    </tr>\n",
       "    <tr>\n",
       "      <th>65</th>\n",
       "      <td>second half 1990s porsch hatch plan new car an...</td>\n",
       "      <td>Using Pricing to Inform Your Roadmap</td>\n",
       "      <td>Product &amp; Design</td>\n",
       "    </tr>\n",
       "    <tr>\n",
       "      <th>66</th>\n",
       "      <td>three way gener trust product jenni wanger aug...</td>\n",
       "      <td>Three Ways of Generating Trust for Your Product</td>\n",
       "      <td>Product &amp; Design</td>\n",
       "    </tr>\n",
       "    <tr>\n",
       "      <th>...</th>\n",
       "      <td>...</td>\n",
       "      <td>...</td>\n",
       "      <td>...</td>\n",
       "    </tr>\n",
       "    <tr>\n",
       "      <th>2460</th>\n",
       "      <td>point journey climber leader take three rule m...</td>\n",
       "      <td>Customer Inspired; Technology Enabled</td>\n",
       "      <td>Product &amp; Design</td>\n",
       "    </tr>\n",
       "    <tr>\n",
       "      <th>2461</th>\n",
       "      <td>product designer guid growth step 1 figur grow...</td>\n",
       "      <td>The Product Designer's Guide to Growth</td>\n",
       "      <td>Product &amp; Design</td>\n",
       "    </tr>\n",
       "    <tr>\n",
       "      <th>2468</th>\n",
       "      <td>softwar onli becom valuabl ship customers befo...</td>\n",
       "      <td>Shipping is your company’s heartbeat</td>\n",
       "      <td>Product &amp; Design</td>\n",
       "    </tr>\n",
       "    <tr>\n",
       "      <th>2470</th>\n",
       "      <td>use adblock well know gotta keep server run th...</td>\n",
       "      <td>Don’t Let Your Brain Deceive You: Avoiding Bia...</td>\n",
       "      <td>Product &amp; Design</td>\n",
       "    </tr>\n",
       "    <tr>\n",
       "      <th>2479</th>\n",
       "      <td>faster faster faster id like talk fast left bu...</td>\n",
       "      <td>Faster. Faster. Faster.</td>\n",
       "      <td>Product &amp; Design</td>\n",
       "    </tr>\n",
       "  </tbody>\n",
       "</table>\n",
       "<p>852 rows × 3 columns</p>\n",
       "</div>"
      ],
      "text/plain": [
       "                                                   body  \\\n",
       "57    role product manag technolog firm critic impor...   \n",
       "62    last year john maeda publish hi inaugur #desig...   \n",
       "64    techmem nuzzel curat newslett book product eve...   \n",
       "65    second half 1990s porsch hatch plan new car an...   \n",
       "66    three way gener trust product jenni wanger aug...   \n",
       "...                                                 ...   \n",
       "2460  point journey climber leader take three rule m...   \n",
       "2461  product designer guid growth step 1 figur grow...   \n",
       "2468  softwar onli becom valuabl ship customers befo...   \n",
       "2470  use adblock well know gotta keep server run th...   \n",
       "2479  faster faster faster id like talk fast left bu...   \n",
       "\n",
       "                                                  title          category  \n",
       "57                          What is Product Management?  Product & Design  \n",
       "62                           Design in Tech Report 2016  Product & Design  \n",
       "64                             My Daily Learning Ritual  Product & Design  \n",
       "65                 Using Pricing to Inform Your Roadmap  Product & Design  \n",
       "66      Three Ways of Generating Trust for Your Product  Product & Design  \n",
       "...                                                 ...               ...  \n",
       "2460              Customer Inspired; Technology Enabled  Product & Design  \n",
       "2461             The Product Designer's Guide to Growth  Product & Design  \n",
       "2468               Shipping is your company’s heartbeat  Product & Design  \n",
       "2470  Don’t Let Your Brain Deceive You: Avoiding Bia...  Product & Design  \n",
       "2479                            Faster. Faster. Faster.  Product & Design  \n",
       "\n",
       "[852 rows x 3 columns]"
      ]
     },
     "execution_count": 33,
     "metadata": {},
     "output_type": "execute_result"
    }
   ],
   "source": [
    "Product_Cluster = data.loc[data.category ==\"Product & Design\"]\n",
    "Product_Cluster"
   ]
  },
  {
   "cell_type": "code",
   "execution_count": 34,
   "metadata": {},
   "outputs": [
    {
     "name": "stdout",
     "output_type": "stream",
     "text": [
      "Wall time: 941 ms\n",
      "(852, 25418)\n"
     ]
    },
    {
     "data": {
      "text/html": [
       "<div>\n",
       "<style scoped>\n",
       "    .dataframe tbody tr th:only-of-type {\n",
       "        vertical-align: middle;\n",
       "    }\n",
       "\n",
       "    .dataframe tbody tr th {\n",
       "        vertical-align: top;\n",
       "    }\n",
       "\n",
       "    .dataframe thead th {\n",
       "        text-align: right;\n",
       "    }\n",
       "</style>\n",
       "<table border=\"1\" class=\"dataframe\">\n",
       "  <thead>\n",
       "    <tr style=\"text-align: right;\">\n",
       "      <th></th>\n",
       "      <th>body</th>\n",
       "      <th>title</th>\n",
       "      <th>category</th>\n",
       "      <th>cluster</th>\n",
       "    </tr>\n",
       "  </thead>\n",
       "  <tbody>\n",
       "    <tr>\n",
       "      <th>0</th>\n",
       "      <td>role product manag technolog firm critic impor...</td>\n",
       "      <td>What is Product Management?</td>\n",
       "      <td>Product &amp; Design</td>\n",
       "      <td>group1</td>\n",
       "    </tr>\n",
       "    <tr>\n",
       "      <th>1</th>\n",
       "      <td>last year john maeda publish hi inaugur #desig...</td>\n",
       "      <td>Design in Tech Report 2016</td>\n",
       "      <td>Product &amp; Design</td>\n",
       "      <td>group3</td>\n",
       "    </tr>\n",
       "    <tr>\n",
       "      <th>2</th>\n",
       "      <td>techmem nuzzel curat newslett book product eve...</td>\n",
       "      <td>My Daily Learning Ritual</td>\n",
       "      <td>Product &amp; Design</td>\n",
       "      <td>group4</td>\n",
       "    </tr>\n",
       "    <tr>\n",
       "      <th>3</th>\n",
       "      <td>second half 1990s porsch hatch plan new car an...</td>\n",
       "      <td>Using Pricing to Inform Your Roadmap</td>\n",
       "      <td>Product &amp; Design</td>\n",
       "      <td>group2</td>\n",
       "    </tr>\n",
       "    <tr>\n",
       "      <th>4</th>\n",
       "      <td>three way gener trust product jenni wanger aug...</td>\n",
       "      <td>Three Ways of Generating Trust for Your Product</td>\n",
       "      <td>Product &amp; Design</td>\n",
       "      <td>group2</td>\n",
       "    </tr>\n",
       "    <tr>\n",
       "      <th>...</th>\n",
       "      <td>...</td>\n",
       "      <td>...</td>\n",
       "      <td>...</td>\n",
       "      <td>...</td>\n",
       "    </tr>\n",
       "    <tr>\n",
       "      <th>847</th>\n",
       "      <td>point journey climber leader take three rule m...</td>\n",
       "      <td>Customer Inspired; Technology Enabled</td>\n",
       "      <td>Product &amp; Design</td>\n",
       "      <td>group2</td>\n",
       "    </tr>\n",
       "    <tr>\n",
       "      <th>848</th>\n",
       "      <td>product designer guid growth step 1 figur grow...</td>\n",
       "      <td>The Product Designer's Guide to Growth</td>\n",
       "      <td>Product &amp; Design</td>\n",
       "      <td>group3</td>\n",
       "    </tr>\n",
       "    <tr>\n",
       "      <th>849</th>\n",
       "      <td>softwar onli becom valuabl ship customers befo...</td>\n",
       "      <td>Shipping is your company’s heartbeat</td>\n",
       "      <td>Product &amp; Design</td>\n",
       "      <td>group2</td>\n",
       "    </tr>\n",
       "    <tr>\n",
       "      <th>850</th>\n",
       "      <td>use adblock well know gotta keep server run th...</td>\n",
       "      <td>Don’t Let Your Brain Deceive You: Avoiding Bia...</td>\n",
       "      <td>Product &amp; Design</td>\n",
       "      <td>group2</td>\n",
       "    </tr>\n",
       "    <tr>\n",
       "      <th>851</th>\n",
       "      <td>faster faster faster id like talk fast left bu...</td>\n",
       "      <td>Faster. Faster. Faster.</td>\n",
       "      <td>Product &amp; Design</td>\n",
       "      <td>group2</td>\n",
       "    </tr>\n",
       "  </tbody>\n",
       "</table>\n",
       "<p>852 rows × 4 columns</p>\n",
       "</div>"
      ],
      "text/plain": [
       "                                                  body  \\\n",
       "0    role product manag technolog firm critic impor...   \n",
       "1    last year john maeda publish hi inaugur #desig...   \n",
       "2    techmem nuzzel curat newslett book product eve...   \n",
       "3    second half 1990s porsch hatch plan new car an...   \n",
       "4    three way gener trust product jenni wanger aug...   \n",
       "..                                                 ...   \n",
       "847  point journey climber leader take three rule m...   \n",
       "848  product designer guid growth step 1 figur grow...   \n",
       "849  softwar onli becom valuabl ship customers befo...   \n",
       "850  use adblock well know gotta keep server run th...   \n",
       "851  faster faster faster id like talk fast left bu...   \n",
       "\n",
       "                                                 title          category  \\\n",
       "0                          What is Product Management?  Product & Design   \n",
       "1                           Design in Tech Report 2016  Product & Design   \n",
       "2                             My Daily Learning Ritual  Product & Design   \n",
       "3                 Using Pricing to Inform Your Roadmap  Product & Design   \n",
       "4      Three Ways of Generating Trust for Your Product  Product & Design   \n",
       "..                                                 ...               ...   \n",
       "847              Customer Inspired; Technology Enabled  Product & Design   \n",
       "848             The Product Designer's Guide to Growth  Product & Design   \n",
       "849               Shipping is your company’s heartbeat  Product & Design   \n",
       "850  Don’t Let Your Brain Deceive You: Avoiding Bia...  Product & Design   \n",
       "851                            Faster. Faster. Faster.  Product & Design   \n",
       "\n",
       "    cluster  \n",
       "0    group1  \n",
       "1    group3  \n",
       "2    group4  \n",
       "3    group2  \n",
       "4    group2  \n",
       "..      ...  \n",
       "847  group2  \n",
       "848  group3  \n",
       "849  group2  \n",
       "850  group2  \n",
       "851  group2  \n",
       "\n",
       "[852 rows x 4 columns]"
      ]
     },
     "execution_count": 34,
     "metadata": {},
     "output_type": "execute_result"
    }
   ],
   "source": [
    "#define vectorizer parameters\n",
    "tfidf_vectorizer = TfidfVectorizer()\n",
    "\n",
    "%time tfidf_matrix = tfidf_vectorizer.fit_transform(Product_Cluster['body']) #fit the vectorizer to body\n",
    "print(tfidf_matrix.shape)\n",
    "\n",
    "terms = tfidf_vectorizer.get_feature_names()\n",
    "\n",
    "dist = 1 - cosine_similarity(tfidf_matrix)\n",
    "\n",
    "#Now we use K-means clustering\n",
    "from sklearn.cluster import KMeans\n",
    "\n",
    "num_clusters = 4\n",
    "\n",
    "km = KMeans(n_clusters=num_clusters)\n",
    "\n",
    "km.fit(tfidf_matrix)\n",
    "\n",
    "Products = km.labels_.tolist()\n",
    "\n",
    "#converting list of clusters to dataframe column\n",
    "df3 = pd.DataFrame (Products, columns = ['cluster'])\n",
    "df3 = df3.astype(str)\n",
    "\n",
    "\n",
    "#changing names of clusters\n",
    "df3['cluster'] = df3['cluster'].replace(['0','1', '2', '3'],['group1','group2','group3', 'group4'])\n",
    "\n",
    "\n",
    "#reseting the index before joining the cluster column\n",
    "Product_Cluster = Product_Cluster.reset_index(drop = True)\n",
    "\n",
    "df3 = pd.concat([Product_Cluster, df3], axis=1)\n",
    "df3"
   ]
  },
  {
   "cell_type": "markdown",
   "metadata": {},
   "source": [
    "#### Exporting the clustered data into JSON Files"
   ]
  },
  {
   "cell_type": "code",
   "execution_count": 35,
   "metadata": {},
   "outputs": [],
   "source": [
    "df.to_json('eng.json', orient = None)"
   ]
  },
  {
   "cell_type": "code",
   "execution_count": 36,
   "metadata": {},
   "outputs": [],
   "source": [
    "df2.to_json('startups.json', orient = None)"
   ]
  },
  {
   "cell_type": "code",
   "execution_count": 37,
   "metadata": {},
   "outputs": [],
   "source": [
    "df3.to_json('product.json', orient = None)"
   ]
  }
 ],
 "metadata": {
  "kernelspec": {
   "display_name": "Python 3",
   "language": "python",
   "name": "python3"
  },
  "language_info": {
   "codemirror_mode": {
    "name": "ipython",
    "version": 3
   },
   "file_extension": ".py",
   "mimetype": "text/x-python",
   "name": "python",
   "nbconvert_exporter": "python",
   "pygments_lexer": "ipython3",
   "version": "3.7.6"
  }
 },
 "nbformat": 4,
 "nbformat_minor": 4
}
